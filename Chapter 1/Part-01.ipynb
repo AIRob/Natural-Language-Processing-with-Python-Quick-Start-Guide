{
 "cells": [
  {
   "cell_type": "markdown",
   "metadata": {},
   "source": [
    "## Text Classification\n",
    "### A Getting Started Tutorial for Self Learners\n",
    "\n",
    "This is an unofficial fork of [javedsha/text-classification](https://github.com/javedsha/text-classification)\n",
    "\n",
    "Not a Jupyter notebook expert? Checkout on how to make the [Best of Jupyter](https://github.com/NirantK/best-of-jupyter) to improve your quality of life :) "
   ]
  },
  {
   "cell_type": "code",
   "execution_count": 1,
   "metadata": {},
   "outputs": [],
   "source": [
    "import spacy\n",
    "\n",
    "from sklearn.datasets import fetch_20newsgroups  # import packages which help us download dataset and load intp python\n",
    "from sklearn.pipeline import Pipeline\n",
    "\n",
    "import numpy as np  # numpy package is for fast numerical computation in Python"
   ]
  },
  {
   "cell_type": "code",
   "execution_count": 2,
   "metadata": {},
   "outputs": [],
   "source": [
    "# Load the filenames and data from the 20 newsgroups dataset\n",
    "# This will download the datasets if you don't have them already\n",
    "twenty_train = fetch_20newsgroups(subset='train', shuffle=True, download_if_missing=True)  \n",
    "twenty_test = fetch_20newsgroups(subset='test', shuffle=True, download_if_missing=True)"
   ]
  },
  {
   "cell_type": "code",
   "execution_count": 3,
   "metadata": {},
   "outputs": [
    {
     "name": "stdout",
     "output_type": "stream",
     "text": [
      "the 20 newsgroups by date dataset\n"
     ]
    }
   ],
   "source": [
    "# What is this dataset about? \n",
    "print(twenty_train.description)"
   ]
  },
  {
   "cell_type": "markdown",
   "metadata": {},
   "source": [
    ">The 20 Newsgroups data set is a collection of approximately 20,000 newsgroup documents, partitioned (nearly) evenly across 20 different newsgroups.\n",
    "This has become a popular data set for experiments in  text applications of machine learning techniques, such as text classification and text clustering.\n",
    "- (from the [official page at qwone](http://qwone.com/~jason/20Newsgroups/))\n",
    "\n",
    "Let's look at a single document that we need to classify:"
   ]
  },
  {
   "cell_type": "code",
   "execution_count": 4,
   "metadata": {},
   "outputs": [
    {
     "data": {
      "text/plain": [
       "\"From: lerxst@wam.umd.edu (where's my thing)\\nSubject: WHAT car is this!?\\nNntp-Posting-Host: rac3.wam.umd.edu\\nOrganization: University of Maryland, College Park\\nLines: 15\\n\\n I was wondering if anyone out there could enlighten me on this car I saw\\nthe other day. It was a 2-door sports car, looked to be from the late 60s/\\nearly 70s. It was called a Bricklin. The doors were really small. In addition,\\nthe front bumper was separate from the rest of the body. This is \\nall I know. If anyone can tellme a model name, engine specs, years\\nof production, where this car is made, history, or whatever info you\\nhave on this funky looking car, please e-mail.\\n\\nThanks,\\n- IL\\n   ---- brought to you by your neighborhood Lerxst ----\\n\\n\\n\\n\\n\""
      ]
     },
     "execution_count": 4,
     "metadata": {},
     "output_type": "execute_result"
    }
   ],
   "source": [
    "twenty_train.data[0]"
   ]
  },
  {
   "cell_type": "markdown",
   "metadata": {},
   "source": [
    "Let's look at what are all the classes:"
   ]
  },
  {
   "cell_type": "code",
   "execution_count": 5,
   "metadata": {},
   "outputs": [
    {
     "data": {
      "text/plain": [
       "['alt.atheism',\n",
       " 'comp.graphics',\n",
       " 'comp.os.ms-windows.misc',\n",
       " 'comp.sys.ibm.pc.hardware',\n",
       " 'comp.sys.mac.hardware',\n",
       " 'comp.windows.x',\n",
       " 'misc.forsale',\n",
       " 'rec.autos',\n",
       " 'rec.motorcycles',\n",
       " 'rec.sport.baseball',\n",
       " 'rec.sport.hockey',\n",
       " 'sci.crypt',\n",
       " 'sci.electronics',\n",
       " 'sci.med',\n",
       " 'sci.space',\n",
       " 'soc.religion.christian',\n",
       " 'talk.politics.guns',\n",
       " 'talk.politics.mideast',\n",
       " 'talk.politics.misc',\n",
       " 'talk.religion.misc']"
      ]
     },
     "execution_count": 5,
     "metadata": {},
     "output_type": "execute_result"
    }
   ],
   "source": [
    "twenty_train.target_names"
   ]
  },
  {
   "cell_type": "markdown",
   "metadata": {},
   "source": [
    "### Why do we need to convert text to numbers?\n",
    ">A problem with modeling text is that it is messy, and techniques like machine learning algorithms prefer well defined fixed-length inputs and outputs.\n",
    "Machine learning algorithms cannot work with raw text directly; the text must be converted into numbers. Specifically, vectors of numbers.\n",
    "\n",
    " from Machine Learning Mastery's [Gentle Introduction to Bag of Words](https://machinelearningmastery.com/gentle-introduction-bag-words-model/)"
   ]
  },
  {
   "cell_type": "code",
   "execution_count": 6,
   "metadata": {},
   "outputs": [
    {
     "name": "stdout",
     "output_type": "stream",
     "text": [
      "Shape of Term Frequency Matrix: (11314, 130107)\n"
     ]
    }
   ],
   "source": [
    "# Extracting features from text files\n",
    "from sklearn.feature_extraction.text import CountVectorizer\n",
    "count_vect = CountVectorizer()\n",
    "X_train_counts = count_vect.fit_transform(twenty_train.data)\n",
    "print(f'Shape of Term Frequency Matrix: {X_train_counts.shape}')"
   ]
  },
  {
   "cell_type": "code",
   "execution_count": 7,
   "metadata": {},
   "outputs": [
    {
     "name": "stdout",
     "output_type": "stream",
     "text": [
      "Shape of TFIDF Matrix: (11314, 130107)\n"
     ]
    }
   ],
   "source": [
    "from sklearn.feature_extraction.text import TfidfTransformer\n",
    "tfidf_transformer = TfidfTransformer()\n",
    "X_train_tfidf = tfidf_transformer.fit_transform(X_train_counts)\n",
    "print(f'Shape of TFIDF Matrix: {X_train_tfidf.shape}') "
   ]
  },
  {
   "cell_type": "markdown",
   "metadata": {},
   "source": [
    "**On f-strings:** \n",
    "You might have noticed the use of ```f' something goes here: '``` string syntax in the print statement above. They are fast-formatted-strings introduced in Python**3.6** and considerably more Pythonic than the earlier ```.format()``` syntax. \n",
    "\n",
    "If you have never used formatter strings from Python3.6, check [f-strings on cito's blog](https://cito.github.io/blog/f-strings/)"
   ]
  },
  {
   "cell_type": "markdown",
   "metadata": {},
   "source": [
    "Let's try **Naive Bayes** - a popular family of machine learning approches. We try Multinomial Naive Bayes here:"
   ]
  },
  {
   "cell_type": "code",
   "execution_count": 8,
   "metadata": {},
   "outputs": [],
   "source": [
    "# Machine Learning\n",
    "# Training Naive Bayes (NB) classifier on training data.\n",
    "from sklearn.naive_bayes import MultinomialNB\n",
    "clf = MultinomialNB().fit(X_train_tfidf, twenty_train.target)"
   ]
  },
  {
   "cell_type": "code",
   "execution_count": 9,
   "metadata": {},
   "outputs": [],
   "source": [
    "# Building a pipeline: We can write less code and do all of the above, by building a pipeline as follows:\n",
    "text_nb_clf = Pipeline([('vect', CountVectorizer()), ('tfidf', TfidfTransformer()), ('clf', MultinomialNB())])\n",
    "text_nb_clf = text_nb_clf.fit(twenty_train.data, twenty_train.target)"
   ]
  },
  {
   "cell_type": "code",
   "execution_count": 10,
   "metadata": {},
   "outputs": [],
   "source": [
    "predicted = text_nb_clf.predict(twenty_test.data)\n",
    "naivebayes_clf_accuracy = np.mean(predicted == twenty_test.target) * 100."
   ]
  },
  {
   "cell_type": "code",
   "execution_count": 11,
   "metadata": {},
   "outputs": [
    {
     "name": "stdout",
     "output_type": "stream",
     "text": [
      "Test Accuracy is 77.38980350504514 %\n"
     ]
    }
   ],
   "source": [
    "print(f'Test Accuracy is {naivebayes_clf_accuracy} %')"
   ]
  },
  {
   "cell_type": "markdown",
   "metadata": {},
   "source": [
    "Let's try **Logistic Regression**, which trains faster and is easier to interepret and understand. "
   ]
  },
  {
   "cell_type": "code",
   "execution_count": 12,
   "metadata": {},
   "outputs": [],
   "source": [
    "from sklearn.linear_model import LogisticRegression as LR"
   ]
  },
  {
   "cell_type": "code",
   "execution_count": 13,
   "metadata": {},
   "outputs": [
    {
     "name": "stdout",
     "output_type": "stream",
     "text": [
      "Wall time: 8.98 s\n"
     ]
    }
   ],
   "source": [
    "%%time\n",
    "text_lr_clf = Pipeline([('vect', CountVectorizer()), ('tfidf', TfidfTransformer()), ('clf',LR())])\n",
    "text_lr_clf = text_lr_clf.fit(twenty_train.data, twenty_train.target)"
   ]
  },
  {
   "cell_type": "code",
   "execution_count": 14,
   "metadata": {},
   "outputs": [
    {
     "name": "stdout",
     "output_type": "stream",
     "text": [
      "Test Accuracy is 82.79341476367499\n"
     ]
    }
   ],
   "source": [
    "lr_predicted = text_lr_clf.predict(twenty_test.data)\n",
    "lr_clf_accuracy = np.mean(lr_predicted == twenty_test.target) * 100.\n",
    "print(f'Test Accuracy is {lr_clf_accuracy}')"
   ]
  },
  {
   "cell_type": "markdown",
   "metadata": {},
   "source": [
    "We used LR default parameters here. We can later optimize these using GridSearch or RandomSearch to improve accuracy even more. \n",
    "\n",
    "If you’re going to remember only one thing from this article, remember to use a linear model for sparse high-dimensional data such as text as bag-of-words or TF-IDF"
   ]
  },
  {
   "cell_type": "code",
   "execution_count": 46,
   "metadata": {},
   "outputs": [
    {
     "ename": "AttributeError",
     "evalue": "'numpy.ndarray' object has no attribute 'to_list'",
     "output_type": "error",
     "traceback": [
      "\u001b[1;31m---------------------------------------------------------------------------\u001b[0m",
      "\u001b[1;31mAttributeError\u001b[0m                            Traceback (most recent call last)",
      "\u001b[1;32m<ipython-input-46-7942b5812d6e>\u001b[0m in \u001b[0;36m<module>\u001b[1;34m()\u001b[0m\n\u001b[0;32m      1\u001b[0m \u001b[1;32mfrom\u001b[0m \u001b[0msklearn\u001b[0m\u001b[1;33m.\u001b[0m\u001b[0mmetrics\u001b[0m \u001b[1;32mimport\u001b[0m \u001b[0mconfusion_matrix\u001b[0m\u001b[1;33m\u001b[0m\u001b[0m\n\u001b[0;32m      2\u001b[0m \u001b[0mcf\u001b[0m \u001b[1;33m=\u001b[0m \u001b[0mconfusion_matrix\u001b[0m\u001b[1;33m(\u001b[0m\u001b[0my_true\u001b[0m\u001b[1;33m=\u001b[0m\u001b[0mtwenty_test\u001b[0m\u001b[1;33m.\u001b[0m\u001b[0mtarget\u001b[0m\u001b[1;33m,\u001b[0m \u001b[0my_pred\u001b[0m\u001b[1;33m=\u001b[0m\u001b[0mlr_predicted\u001b[0m\u001b[1;33m)\u001b[0m\u001b[1;33m\u001b[0m\u001b[0m\n\u001b[1;32m----> 3\u001b[1;33m \u001b[0mprint\u001b[0m\u001b[1;33m(\u001b[0m\u001b[0mjson\u001b[0m\u001b[1;33m.\u001b[0m\u001b[0mdumps\u001b[0m\u001b[1;33m(\u001b[0m\u001b[0mcf\u001b[0m\u001b[1;33m.\u001b[0m\u001b[0mto_list\u001b[0m\u001b[1;33m(\u001b[0m\u001b[1;33m)\u001b[0m\u001b[1;33m,\u001b[0m \u001b[0mindent\u001b[0m\u001b[1;33m=\u001b[0m\u001b[1;36m2\u001b[0m\u001b[1;33m)\u001b[0m\u001b[1;33m)\u001b[0m\u001b[1;33m\u001b[0m\u001b[0m\n\u001b[0m",
      "\u001b[1;31mAttributeError\u001b[0m: 'numpy.ndarray' object has no attribute 'to_list'"
     ]
    }
   ],
   "source": [
    "from sklearn.metrics import confusion_matrix\n",
    "cf = confusion_matrix(y_true=twenty_test.target, y_pred=lr_predicted)"
   ]
  },
  {
   "cell_type": "code",
   "execution_count": 52,
   "metadata": {
    "scrolled": false
   },
   "outputs": [
    {
     "name": "stdout",
     "output_type": "stream",
     "text": [
      "[\n",
      "  [\n",
      "    236,\n",
      "    2,\n",
      "    0,\n",
      "    0,\n",
      "    1,\n",
      "    1,\n",
      "    3,\n",
      "    0,\n",
      "    3,\n",
      "    3,\n",
      "    1,\n",
      "    1,\n",
      "    2,\n",
      "    9,\n",
      "    2,\n",
      "    35,\n",
      "    3,\n",
      "    4,\n",
      "    1,\n",
      "    12\n",
      "  ],\n",
      "  [\n",
      "    2,\n",
      "    304,\n",
      "    13,\n",
      "    8,\n",
      "    8,\n",
      "    19,\n",
      "    7,\n",
      "    1,\n",
      "    0,\n",
      "    1,\n",
      "    0,\n",
      "    4,\n",
      "    10,\n",
      "    1,\n",
      "    5,\n",
      "    2,\n",
      "    1,\n",
      "    1,\n",
      "    1,\n",
      "    1\n",
      "  ],\n",
      "  [\n",
      "    1,\n",
      "    21,\n",
      "    294,\n",
      "    31,\n",
      "    12,\n",
      "    10,\n",
      "    2,\n",
      "    2,\n",
      "    1,\n",
      "    5,\n",
      "    0,\n",
      "    1,\n",
      "    1,\n",
      "    2,\n",
      "    4,\n",
      "    2,\n",
      "    0,\n",
      "    0,\n",
      "    4,\n",
      "    1\n",
      "  ],\n",
      "  [\n",
      "    0,\n",
      "    12,\n",
      "    24,\n",
      "    283,\n",
      "    22,\n",
      "    2,\n",
      "    13,\n",
      "    3,\n",
      "    1,\n",
      "    1,\n",
      "    1,\n",
      "    1,\n",
      "    24,\n",
      "    0,\n",
      "    4,\n",
      "    0,\n",
      "    0,\n",
      "    0,\n",
      "    0,\n",
      "    1\n",
      "  ],\n",
      "  [\n",
      "    0,\n",
      "    5,\n",
      "    6,\n",
      "    21,\n",
      "    319,\n",
      "    1,\n",
      "    11,\n",
      "    1,\n",
      "    1,\n",
      "    5,\n",
      "    1,\n",
      "    0,\n",
      "    10,\n",
      "    0,\n",
      "    1,\n",
      "    0,\n",
      "    0,\n",
      "    0,\n",
      "    3,\n",
      "    0\n",
      "  ],\n",
      "  [\n",
      "    0,\n",
      "    41,\n",
      "    38,\n",
      "    5,\n",
      "    4,\n",
      "    292,\n",
      "    3,\n",
      "    0,\n",
      "    1,\n",
      "    1,\n",
      "    0,\n",
      "    1,\n",
      "    3,\n",
      "    2,\n",
      "    4,\n",
      "    0,\n",
      "    0,\n",
      "    0,\n",
      "    0,\n",
      "    0\n",
      "  ],\n",
      "  [\n",
      "    0,\n",
      "    3,\n",
      "    2,\n",
      "    12,\n",
      "    7,\n",
      "    0,\n",
      "    351,\n",
      "    3,\n",
      "    2,\n",
      "    1,\n",
      "    1,\n",
      "    0,\n",
      "    7,\n",
      "    1,\n",
      "    0,\n",
      "    0,\n",
      "    0,\n",
      "    0,\n",
      "    0,\n",
      "    0\n",
      "  ],\n",
      "  [\n",
      "    0,\n",
      "    1,\n",
      "    1,\n",
      "    4,\n",
      "    0,\n",
      "    2,\n",
      "    12,\n",
      "    352,\n",
      "    4,\n",
      "    2,\n",
      "    0,\n",
      "    0,\n",
      "    13,\n",
      "    1,\n",
      "    1,\n",
      "    0,\n",
      "    1,\n",
      "    0,\n",
      "    2,\n",
      "    0\n",
      "  ],\n",
      "  [\n",
      "    0,\n",
      "    0,\n",
      "    0,\n",
      "    0,\n",
      "    0,\n",
      "    0,\n",
      "    6,\n",
      "    10,\n",
      "    379,\n",
      "    2,\n",
      "    0,\n",
      "    0,\n",
      "    1,\n",
      "    0,\n",
      "    0,\n",
      "    0,\n",
      "    0,\n",
      "    0,\n",
      "    0,\n",
      "    0\n",
      "  ],\n",
      "  [\n",
      "    1,\n",
      "    0,\n",
      "    0,\n",
      "    0,\n",
      "    2,\n",
      "    0,\n",
      "    6,\n",
      "    1,\n",
      "    0,\n",
      "    368,\n",
      "    15,\n",
      "    0,\n",
      "    2,\n",
      "    0,\n",
      "    0,\n",
      "    0,\n",
      "    1,\n",
      "    0,\n",
      "    0,\n",
      "    1\n",
      "  ],\n",
      "  [\n",
      "    0,\n",
      "    0,\n",
      "    0,\n",
      "    1,\n",
      "    3,\n",
      "    1,\n",
      "    2,\n",
      "    0,\n",
      "    0,\n",
      "    9,\n",
      "    382,\n",
      "    0,\n",
      "    0,\n",
      "    0,\n",
      "    0,\n",
      "    0,\n",
      "    0,\n",
      "    0,\n",
      "    1,\n",
      "    0\n",
      "  ],\n",
      "  [\n",
      "    1,\n",
      "    7,\n",
      "    3,\n",
      "    0,\n",
      "    3,\n",
      "    4,\n",
      "    5,\n",
      "    2,\n",
      "    1,\n",
      "    5,\n",
      "    0,\n",
      "    352,\n",
      "    5,\n",
      "    0,\n",
      "    1,\n",
      "    0,\n",
      "    4,\n",
      "    0,\n",
      "    3,\n",
      "    0\n",
      "  ],\n",
      "  [\n",
      "    1,\n",
      "    9,\n",
      "    5,\n",
      "    20,\n",
      "    9,\n",
      "    4,\n",
      "    8,\n",
      "    5,\n",
      "    2,\n",
      "    3,\n",
      "    0,\n",
      "    10,\n",
      "    307,\n",
      "    4,\n",
      "    5,\n",
      "    1,\n",
      "    0,\n",
      "    0,\n",
      "    0,\n",
      "    0\n",
      "  ],\n",
      "  [\n",
      "    4,\n",
      "    10,\n",
      "    1,\n",
      "    2,\n",
      "    2,\n",
      "    2,\n",
      "    13,\n",
      "    1,\n",
      "    5,\n",
      "    4,\n",
      "    0,\n",
      "    0,\n",
      "    11,\n",
      "    331,\n",
      "    0,\n",
      "    3,\n",
      "    1,\n",
      "    3,\n",
      "    3,\n",
      "    0\n",
      "  ],\n",
      "  [\n",
      "    0,\n",
      "    11,\n",
      "    0,\n",
      "    0,\n",
      "    2,\n",
      "    1,\n",
      "    2,\n",
      "    1,\n",
      "    0,\n",
      "    0,\n",
      "    1,\n",
      "    0,\n",
      "    2,\n",
      "    6,\n",
      "    363,\n",
      "    1,\n",
      "    2,\n",
      "    0,\n",
      "    2,\n",
      "    0\n",
      "  ],\n",
      "  [\n",
      "    4,\n",
      "    4,\n",
      "    2,\n",
      "    1,\n",
      "    0,\n",
      "    1,\n",
      "    1,\n",
      "    0,\n",
      "    0,\n",
      "    2,\n",
      "    0,\n",
      "    0,\n",
      "    2,\n",
      "    1,\n",
      "    3,\n",
      "    371,\n",
      "    0,\n",
      "    0,\n",
      "    0,\n",
      "    6\n",
      "  ],\n",
      "  [\n",
      "    0,\n",
      "    0,\n",
      "    0,\n",
      "    1,\n",
      "    1,\n",
      "    0,\n",
      "    5,\n",
      "    3,\n",
      "    2,\n",
      "    4,\n",
      "    1,\n",
      "    5,\n",
      "    1,\n",
      "    4,\n",
      "    2,\n",
      "    0,\n",
      "    326,\n",
      "    1,\n",
      "    7,\n",
      "    1\n",
      "  ],\n",
      "  [\n",
      "    7,\n",
      "    2,\n",
      "    0,\n",
      "    0,\n",
      "    0,\n",
      "    9,\n",
      "    1,\n",
      "    1,\n",
      "    1,\n",
      "    3,\n",
      "    1,\n",
      "    1,\n",
      "    0,\n",
      "    0,\n",
      "    0,\n",
      "    3,\n",
      "    3,\n",
      "    333,\n",
      "    11,\n",
      "    0\n",
      "  ],\n",
      "  [\n",
      "    1,\n",
      "    2,\n",
      "    0,\n",
      "    0,\n",
      "    1,\n",
      "    1,\n",
      "    4,\n",
      "    1,\n",
      "    2,\n",
      "    0,\n",
      "    0,\n",
      "    2,\n",
      "    2,\n",
      "    4,\n",
      "    8,\n",
      "    4,\n",
      "    97,\n",
      "    2,\n",
      "    179,\n",
      "    0\n",
      "  ],\n",
      "  [\n",
      "    38,\n",
      "    4,\n",
      "    0,\n",
      "    0,\n",
      "    0,\n",
      "    0,\n",
      "    4,\n",
      "    0,\n",
      "    0,\n",
      "    2,\n",
      "    2,\n",
      "    0,\n",
      "    0,\n",
      "    8,\n",
      "    3,\n",
      "    48,\n",
      "    17,\n",
      "    2,\n",
      "    9,\n",
      "    114\n",
      "  ]\n",
      "]\n"
     ]
    }
   ],
   "source": [
    "import json\n",
    "print(json.dumps(cf.tolist(), indent=2))"
   ]
  },
  {
   "cell_type": "code",
   "execution_count": 41,
   "metadata": {},
   "outputs": [],
   "source": [
    "import seaborn as sns\n",
    "import matplotlib.pyplot as plt\n",
    "%matplotlib inline"
   ]
  },
  {
   "cell_type": "code",
   "execution_count": 42,
   "metadata": {},
   "outputs": [
    {
     "data": {
      "image/png": "[encoded data removed]",
      "text/plain": [
       "<matplotlib.figure.Figure at 0x1d98ad86d30>"
      ]
     },
     "metadata": {},
     "output_type": "display_data"
    }
   ],
   "source": [
    "plt.figure(figsize=(20,10))\n",
    "ax = sns.heatmap(cf, annot=True, fmt=\"d\",linewidths=.5, center = 90, vmax = 200)"
   ]
  },
  {
   "cell_type": "markdown",
   "metadata": {},
   "source": [
    "### Tricks of Trade\n",
    "#### Removing Stop Words\n",
    "They are usually words like *the*, *then*, *a*, *of* etc. Stop words are words which occur too often across documents and don't help disntinguishing one document from another. Removing them from the data is usually the first trick to try. \n",
    "\n",
    "You should do this only when stop words are not useful for the underlying problem. In most of the text classification problems, this is indeed not useful. Let’s see if removing stop words increases the accuracy. \n",
    "\n",
    "Let's update the code:"
   ]
  },
  {
   "cell_type": "code",
   "execution_count": 15,
   "metadata": {},
   "outputs": [],
   "source": [
    "nlp = spacy.load('en')"
   ]
  },
  {
   "cell_type": "markdown",
   "metadata": {},
   "source": [
    "If there is an error above, try:\n",
    "- Windows:```python -m spacy download en``` as **Administrator**\n",
    "- Linux:```sudo python -m spacy download en ```"
   ]
  },
  {
   "cell_type": "markdown",
   "metadata": {},
   "source": [
    "### Exploring spaCy\n",
    "Let's look at an inside look at words which spaCy considers as stop words"
   ]
  },
  {
   "cell_type": "code",
   "execution_count": 16,
   "metadata": {
    "scrolled": true
   },
   "outputs": [
    {
     "data": {
      "text/plain": [
       "{'a',\n",
       " 'about',\n",
       " 'above',\n",
       " 'across',\n",
       " 'after',\n",
       " 'afterwards',\n",
       " 'again',\n",
       " 'against',\n",
       " 'all',\n",
       " 'almost',\n",
       " 'alone',\n",
       " 'along',\n",
       " 'already',\n",
       " 'also',\n",
       " 'although',\n",
       " 'always',\n",
       " 'am',\n",
       " 'among',\n",
       " 'amongst',\n",
       " 'amount',\n",
       " 'an',\n",
       " 'and',\n",
       " 'another',\n",
       " 'any',\n",
       " 'anyhow',\n",
       " 'anyone',\n",
       " 'anything',\n",
       " 'anyway',\n",
       " 'anywhere',\n",
       " 'are',\n",
       " 'around',\n",
       " 'as',\n",
       " 'at',\n",
       " 'back',\n",
       " 'be',\n",
       " 'became',\n",
       " 'because',\n",
       " 'become',\n",
       " 'becomes',\n",
       " 'becoming',\n",
       " 'been',\n",
       " 'before',\n",
       " 'beforehand',\n",
       " 'behind',\n",
       " 'being',\n",
       " 'below',\n",
       " 'beside',\n",
       " 'besides',\n",
       " 'between',\n",
       " 'beyond',\n",
       " 'both',\n",
       " 'bottom',\n",
       " 'but',\n",
       " 'by',\n",
       " 'ca',\n",
       " 'call',\n",
       " 'can',\n",
       " 'cannot',\n",
       " 'could',\n",
       " 'did',\n",
       " 'do',\n",
       " 'does',\n",
       " 'doing',\n",
       " 'done',\n",
       " 'down',\n",
       " 'due',\n",
       " 'during',\n",
       " 'each',\n",
       " 'eight',\n",
       " 'either',\n",
       " 'eleven',\n",
       " 'else',\n",
       " 'elsewhere',\n",
       " 'empty',\n",
       " 'enough',\n",
       " 'even',\n",
       " 'ever',\n",
       " 'every',\n",
       " 'everyone',\n",
       " 'everything',\n",
       " 'everywhere',\n",
       " 'except',\n",
       " 'few',\n",
       " 'fifteen',\n",
       " 'fifty',\n",
       " 'first',\n",
       " 'five',\n",
       " 'for',\n",
       " 'former',\n",
       " 'formerly',\n",
       " 'forty',\n",
       " 'four',\n",
       " 'from',\n",
       " 'front',\n",
       " 'full',\n",
       " 'further',\n",
       " 'get',\n",
       " 'give',\n",
       " 'go',\n",
       " 'had',\n",
       " 'has',\n",
       " 'have',\n",
       " 'he',\n",
       " 'hence',\n",
       " 'her',\n",
       " 'here',\n",
       " 'hereafter',\n",
       " 'hereby',\n",
       " 'herein',\n",
       " 'hereupon',\n",
       " 'hers',\n",
       " 'herself',\n",
       " 'him',\n",
       " 'himself',\n",
       " 'his',\n",
       " 'how',\n",
       " 'however',\n",
       " 'hundred',\n",
       " 'i',\n",
       " 'if',\n",
       " 'in',\n",
       " 'indeed',\n",
       " 'into',\n",
       " 'is',\n",
       " 'it',\n",
       " 'its',\n",
       " 'itself',\n",
       " 'just',\n",
       " 'keep',\n",
       " 'last',\n",
       " 'latter',\n",
       " 'latterly',\n",
       " 'least',\n",
       " 'less',\n",
       " 'made',\n",
       " 'make',\n",
       " 'many',\n",
       " 'may',\n",
       " 'me',\n",
       " 'meanwhile',\n",
       " 'might',\n",
       " 'mine',\n",
       " 'more',\n",
       " 'moreover',\n",
       " 'most',\n",
       " 'mostly',\n",
       " 'move',\n",
       " 'much',\n",
       " 'must',\n",
       " 'my',\n",
       " 'myself',\n",
       " 'name',\n",
       " 'namely',\n",
       " 'neither',\n",
       " 'never',\n",
       " 'nevertheless',\n",
       " 'next',\n",
       " 'nine',\n",
       " 'no',\n",
       " 'nobody',\n",
       " 'none',\n",
       " 'noone',\n",
       " 'nor',\n",
       " 'not',\n",
       " 'nothing',\n",
       " 'now',\n",
       " 'nowhere',\n",
       " 'of',\n",
       " 'off',\n",
       " 'often',\n",
       " 'on',\n",
       " 'once',\n",
       " 'one',\n",
       " 'only',\n",
       " 'onto',\n",
       " 'or',\n",
       " 'other',\n",
       " 'others',\n",
       " 'otherwise',\n",
       " 'our',\n",
       " 'ours',\n",
       " 'ourselves',\n",
       " 'out',\n",
       " 'over',\n",
       " 'own',\n",
       " 'part',\n",
       " 'per',\n",
       " 'perhaps',\n",
       " 'please',\n",
       " 'put',\n",
       " 'quite',\n",
       " 'rather',\n",
       " 're',\n",
       " 'really',\n",
       " 'regarding',\n",
       " 'same',\n",
       " 'say',\n",
       " 'see',\n",
       " 'seem',\n",
       " 'seemed',\n",
       " 'seeming',\n",
       " 'seems',\n",
       " 'serious',\n",
       " 'several',\n",
       " 'she',\n",
       " 'should',\n",
       " 'show',\n",
       " 'side',\n",
       " 'since',\n",
       " 'six',\n",
       " 'sixty',\n",
       " 'so',\n",
       " 'some',\n",
       " 'somehow',\n",
       " 'someone',\n",
       " 'something',\n",
       " 'sometime',\n",
       " 'sometimes',\n",
       " 'somewhere',\n",
       " 'still',\n",
       " 'such',\n",
       " 'take',\n",
       " 'ten',\n",
       " 'than',\n",
       " 'that',\n",
       " 'the',\n",
       " 'their',\n",
       " 'them',\n",
       " 'themselves',\n",
       " 'then',\n",
       " 'thence',\n",
       " 'there',\n",
       " 'thereafter',\n",
       " 'thereby',\n",
       " 'therefore',\n",
       " 'therein',\n",
       " 'thereupon',\n",
       " 'these',\n",
       " 'they',\n",
       " 'third',\n",
       " 'this',\n",
       " 'those',\n",
       " 'though',\n",
       " 'three',\n",
       " 'through',\n",
       " 'throughout',\n",
       " 'thru',\n",
       " 'thus',\n",
       " 'to',\n",
       " 'together',\n",
       " 'too',\n",
       " 'top',\n",
       " 'toward',\n",
       " 'towards',\n",
       " 'twelve',\n",
       " 'twenty',\n",
       " 'two',\n",
       " 'under',\n",
       " 'unless',\n",
       " 'until',\n",
       " 'up',\n",
       " 'upon',\n",
       " 'us',\n",
       " 'used',\n",
       " 'using',\n",
       " 'various',\n",
       " 'very',\n",
       " 'via',\n",
       " 'was',\n",
       " 'we',\n",
       " 'well',\n",
       " 'were',\n",
       " 'what',\n",
       " 'whatever',\n",
       " 'when',\n",
       " 'whence',\n",
       " 'whenever',\n",
       " 'where',\n",
       " 'whereafter',\n",
       " 'whereas',\n",
       " 'whereby',\n",
       " 'wherein',\n",
       " 'whereupon',\n",
       " 'wherever',\n",
       " 'whether',\n",
       " 'which',\n",
       " 'while',\n",
       " 'whither',\n",
       " 'who',\n",
       " 'whoever',\n",
       " 'whole',\n",
       " 'whom',\n",
       " 'whose',\n",
       " 'why',\n",
       " 'will',\n",
       " 'with',\n",
       " 'within',\n",
       " 'without',\n",
       " 'would',\n",
       " 'yet',\n",
       " 'you',\n",
       " 'your',\n",
       " 'yours',\n",
       " 'yourself',\n",
       " 'yourselves'}"
      ]
     },
     "execution_count": 16,
     "metadata": {},
     "output_type": "execute_result"
    }
   ],
   "source": [
    "from spacy.lang.en.stop_words import STOP_WORDS\n",
    "STOP_WORDS"
   ]
  },
  {
   "cell_type": "code",
   "execution_count": 17,
   "metadata": {},
   "outputs": [
    {
     "data": {
      "text/plain": [
       "'There are 305 stopwords in spaCy'"
      ]
     },
     "execution_count": 17,
     "metadata": {},
     "output_type": "execute_result"
    }
   ],
   "source": [
    "f'There are {len(STOP_WORDS)} stopwords in spaCy'"
   ]
  },
  {
   "cell_type": "code",
   "execution_count": 18,
   "metadata": {},
   "outputs": [
    {
     "data": {
      "text/plain": [
       "'After adding your own stop words, spaCy will use 306 stopwords'"
      ]
     },
     "execution_count": 18,
     "metadata": {},
     "output_type": "execute_result"
    }
   ],
   "source": [
    "# You can add your own corpora specific STOPWORDS using the .add syntax\n",
    "STOP_WORDS.add(\"your_additional_stop_word_here\")\n",
    "f'After adding your own stop words, spaCy will use {len(STOP_WORDS)} stopwords'"
   ]
  },
  {
   "cell_type": "code",
   "execution_count": 19,
   "metadata": {},
   "outputs": [
    {
     "name": "stdout",
     "output_type": "stream",
     "text": [
      "I am learning the most important ideas Natural Language Processing ideas using Python\n"
     ]
    }
   ],
   "source": [
    "doc = nlp(\"I am learning the most important ideas Natural Language Processing ideas using Python\")\n",
    "print(doc)  # doc is a spaCy object which stores the entire document string"
   ]
  },
  {
   "cell_type": "markdown",
   "metadata": {},
   "source": [
    "**About spaCy objects**\n",
    "- spaCy does some common NLP tasks such as tokenization, stop word analysis and lemmatization the momnent the object is created\n",
    "- the spaCy tokenization and syntactic parsing is faster than NLTK and much more accurate\n",
    "- You can learn more at [NLP with spaCy tutorial](https://dataflume.wordpress.com/2017/03/17/intro-nlp-python-spacy/)"
   ]
  },
  {
   "cell_type": "markdown",
   "metadata": {},
   "source": [
    "spaCy has already tokenized the document and you can iterate over it:"
   ]
  },
  {
   "cell_type": "code",
   "execution_count": 20,
   "metadata": {},
   "outputs": [
    {
     "name": "stdout",
     "output_type": "stream",
     "text": [
      "I\n",
      "am\n",
      "learning\n",
      "the\n",
      "most\n",
      "important\n",
      "ideas\n",
      "Natural\n",
      "Language\n",
      "Processing\n",
      "ideas\n",
      "using\n",
      "Python\n"
     ]
    }
   ],
   "source": [
    "for token in doc:\n",
    "    print(token)"
   ]
  },
  {
   "cell_type": "code",
   "execution_count": 21,
   "metadata": {},
   "outputs": [
    {
     "data": {
      "text/plain": [
       "[I, learning, important, ideas, Natural, Language, Processing, ideas, Python]"
      ]
     },
     "execution_count": 21,
     "metadata": {},
     "output_type": "execute_result"
    }
   ],
   "source": [
    "simplified_doc = [token for token in doc if not token.is_punct | token.is_stop]\n",
    "simplified_doc\n",
    "# please note that .orth_ attribute returns the unicode string representation of the token"
   ]
  },
  {
   "cell_type": "markdown",
   "metadata": {},
   "source": [
    "We can also check what other things we know about these tags in the simplified_doc:"
   ]
  },
  {
   "cell_type": "code",
   "execution_count": 22,
   "metadata": {},
   "outputs": [
    {
     "name": "stdout",
     "output_type": "stream",
     "text": [
      "Token:I\tLemmatized:-PRON-\tPart-of-Speech-Tag:PRON\n",
      "Token:learning\tLemmatized:learn\tPart-of-Speech-Tag:VERB\n",
      "Token:important\tLemmatized:important\tPart-of-Speech-Tag:ADJ\n",
      "Token:ideas\tLemmatized:idea\tPart-of-Speech-Tag:NOUN\n",
      "Token:Natural\tLemmatized:natural\tPart-of-Speech-Tag:PROPN\n",
      "Token:Language\tLemmatized:language\tPart-of-Speech-Tag:PROPN\n",
      "Token:Processing\tLemmatized:processing\tPart-of-Speech-Tag:PROPN\n",
      "Token:ideas\tLemmatized:idea\tPart-of-Speech-Tag:NOUN\n",
      "Token:Python\tLemmatized:python\tPart-of-Speech-Tag:NOUN\n"
     ]
    }
   ],
   "source": [
    "for token in simplified_doc:\n",
    "    print(f'Token:{token.orth_}\\tLemmatized:{token.lemma_}\\tPart-of-Speech-Tag:{token.pos_}')"
   ]
  },
  {
   "cell_type": "markdown",
   "metadata": {},
   "source": [
    "### Integrating back with our classifier pipeline"
   ]
  },
  {
   "cell_type": "code",
   "execution_count": 23,
   "metadata": {},
   "outputs": [],
   "source": [
    "??CountVectorizer"
   ]
  },
  {
   "cell_type": "code",
   "execution_count": 42,
   "metadata": {},
   "outputs": [],
   "source": [
    "from spacy.lang.en import English\n",
    "tokenizer = English().Defaults.create_tokenizer(nlp)\n",
    "def spacy_tokenizer(document):\n",
    "    return [token.orth_ for token in tokenizer(document)]"
   ]
  },
  {
   "cell_type": "code",
   "execution_count": 43,
   "metadata": {},
   "outputs": [
    {
     "name": "stdout",
     "output_type": "stream",
     "text": [
      "Wall time: 10.1 s\n"
     ]
    }
   ],
   "source": [
    "%%time\n",
    "text_lr_clf = Pipeline([('vect', CountVectorizer()), ('tfidf', TfidfTransformer()), ('clf',LR())])\n",
    "text_lr_clf = text_lr_clf.fit(twenty_train.data, twenty_train.target)"
   ]
  },
  {
   "cell_type": "code",
   "execution_count": 44,
   "metadata": {},
   "outputs": [
    {
     "name": "stdout",
     "output_type": "stream",
     "text": [
      "Test Accuracy is 82.79341476367499\n"
     ]
    },
    {
     "data": {
      "text/plain": [
       "82.79341476367499"
      ]
     },
     "execution_count": 44,
     "metadata": {},
     "output_type": "execute_result"
    }
   ],
   "source": [
    "def calc_print_accuracy(text_clf, test):\n",
    "    predictions = text_clf.predict(test.data)\n",
    "    clf_accuracy = np.mean(predictions == test.target) * 100.\n",
    "    print(f'Test Accuracy is {clf_accuracy}')\n",
    "    return clf_accuracy\n",
    "\n",
    "calc_print_accuracy(text_lr_clf, twenty_test)"
   ]
  },
  {
   "cell_type": "code",
   "execution_count": 45,
   "metadata": {},
   "outputs": [
    {
     "name": "stdout",
     "output_type": "stream",
     "text": [
      "Test Accuracy is 78.18640467339351\n",
      "Wall time: 3min 19s\n"
     ]
    }
   ],
   "source": [
    "%%time\n",
    "text_lr_clf = Pipeline([('vect', CountVectorizer(tokenizer=spacy_tokenizer, stop_words=list(STOP_WORDS))), ('tfidf', TfidfTransformer()), ('clf',LR())])\n",
    "text_lr_clf = text_lr_clf.fit(twenty_train.data, twenty_train.target)\n",
    "calc_print_accuracy(text_lr_clf, twenty_test)"
   ]
  }
 ],
 "metadata": {
  "kernelspec": {
   "display_name": "fastAI",
   "language": "python",
   "name": "fastai"
  },
  "language_info": {
   "codemirror_mode": {
    "name": "ipython",
    "version": 3
   },
   "file_extension": ".py",
   "mimetype": "text/x-python",
   "name": "python",
   "nbconvert_exporter": "python",
   "pygments_lexer": "ipython3",
   "version": "3.6.4"
  }
 },
 "nbformat": 4,
 "nbformat_minor": 2
}
